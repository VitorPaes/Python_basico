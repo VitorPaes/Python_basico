{
 "cells": [
  {
   "attachments": {},
   "cell_type": "markdown",
   "metadata": {},
   "source": [
    "\n",
    "# Introdução ao Python\n",
    "\n"
   ]
  },
  {
   "cell_type": "markdown",
   "metadata": {},
   "source": [
    "![image.png](Downloads/python-logo-master-v3-TM.png)"
   ]
  },
  {
   "cell_type": "markdown",
   "metadata": {},
   "source": [
    "## 0 - Connhecendo o Jupyter Notebook\n",
    "### <font color='grey'>\n",
    "B - Para adicionar uma célula abaixo (Below) \n",
    "\n",
    "A - Para adicionar uma célula acima (Above)\n",
    "    \n",
    "D + D - Pressione a Tecla D duas vezes para excluir a célula \n",
    "\n",
    "M - Para MarkDown\n",
    "\n",
    "Y - Para Código\n",
    "\n",
    "\n",
    "</font>\n",
    "\n"
   ]
  },
  {
   "attachments": {},
   "cell_type": "markdown",
   "metadata": {},
   "source": [
    "## 1 - Hello World - Olá Mundo\n",
    "\n",
    "### <font color='grey'>Utilize a função print() para que seja apresentada na tela a frase \"Hello World\"</font>\n",
    "Sintaxe:\n",
    "\n",
    "<font color='red'>print()<font>"
   ]
  },
  {
   "cell_type": "code",
   "execution_count": null,
   "metadata": {},
   "outputs": [],
   "source": []
  },
  {
   "attachments": {},
   "cell_type": "markdown",
   "metadata": {},
   "source": [
    "## 1.2 - Comentários no programa\n",
    "\n",
    "\n",
    "<font color='grey'> Utilize '#' para inserir uma linha de comentário no programa. Comentários claros e pertinentes são fundamentais \n",
    "para  o desenvolvimento e manutenção de um bom programa. </font>"
   ]
  },
  {
   "cell_type": "code",
   "execution_count": null,
   "metadata": {},
   "outputs": [],
   "source": []
  },
  {
   "attachments": {},
   "cell_type": "markdown",
   "metadata": {},
   "source": [
    "## 2 - Utilizando Variáveis\n",
    "\n",
    "### <font color='gray'>Grave o texto \"Olá mundo, meu nome é \" em uma variável chamada textoPadrao</font>"
   ]
  },
  {
   "cell_type": "code",
   "execution_count": 19,
   "metadata": {},
   "outputs": [],
   "source": [
    "# gravando o textoPadrao em uma variável\n",
    "textoPadrao = \" ______ \""
   ]
  },
  {
   "cell_type": "code",
   "execution_count": null,
   "metadata": {},
   "outputs": [],
   "source": [
    "___ = \"Vitor\""
   ]
  },
  {
   "cell_type": "markdown",
   "metadata": {},
   "source": [
    "### <font color='gray'> O resultado final do textoPadrao junto com a frase</font>"
   ]
  },
  {
   "cell_type": "code",
   "execution_count": null,
   "metadata": {},
   "outputs": [],
   "source": [
    "# Use a função print() para mostrar a concatenação do texto padrão com o nome\n",
    "print(textoPadrao + ___)"
   ]
  },
  {
   "attachments": {},
   "cell_type": "markdown",
   "metadata": {},
   "source": [
    "## 2.1 - Tipos\n",
    "\n",
    "### <font color='gray'>Descobrindo os tipos atribuídos após a declaração.\n",
    "</font>"
   ]
  },
  {
   "cell_type": "code",
   "execution_count": 21,
   "metadata": {},
   "outputs": [],
   "source": [
    "nome = \"Vitor\"\n",
    "\n",
    "idade = 23"
   ]
  },
  {
   "cell_type": "code",
   "execution_count": 22,
   "metadata": {},
   "outputs": [
    {
     "data": {
      "text/plain": [
       "str"
      ]
     },
     "execution_count": 22,
     "metadata": {},
     "output_type": "execute_result"
    }
   ],
   "source": [
    "type(nome)"
   ]
  },
  {
   "cell_type": "code",
   "execution_count": 23,
   "metadata": {},
   "outputs": [
    {
     "data": {
      "text/plain": [
       "int"
      ]
     },
     "execution_count": 23,
     "metadata": {},
     "output_type": "execute_result"
    }
   ],
   "source": [
    "type(idade)"
   ]
  },
  {
   "cell_type": "markdown",
   "metadata": {},
   "source": [
    "## 2.2 - Conversão\n",
    "\n",
    "### <font color='gray'> Conversão de variável.\n",
    "</font>"
   ]
  },
  {
   "cell_type": "code",
   "execution_count": null,
   "metadata": {},
   "outputs": [],
   "source": [
    "## Variável atribuida\n",
    "x = 10.5"
   ]
  },
  {
   "cell_type": "code",
   "execution_count": null,
   "metadata": {},
   "outputs": [],
   "source": [
    "## Conversão da varável\n",
    "\n",
    "x = int(_)\n",
    "type(x)"
   ]
  },
  {
   "cell_type": "code",
   "execution_count": null,
   "metadata": {},
   "outputs": [],
   "source": [
    "## Novo valor \n",
    "print(x)"
   ]
  },
  {
   "cell_type": "markdown",
   "metadata": {},
   "source": [
    "## 2.3 - Operações matemáticas\n",
    "\n"
   ]
  },
  {
   "cell_type": "code",
   "execution_count": null,
   "metadata": {},
   "outputs": [],
   "source": [
    "# Adição, Subtração\n",
    "print(5 + 5)\n",
    "print(5 - 5)\n",
    "# Multiplicação, Divisão, Módulo, Potência\n",
    "print(3 * 5)\n",
    "print(10 / 3)\n",
    "print(18 % 7)\n",
    "print(4 ** 2)\n",
    "print(10 // 3)\n"
   ]
  },
  {
   "attachments": {},
   "cell_type": "markdown",
   "metadata": {},
   "source": [
    "## 2.4 - String\n",
    "\n",
    "### <font color='gray'> Strings em Python são armazenadas como uma sequência indexada de caracteres\n",
    "\n",
    "A palavra “Python” na verdade é interpretada pelo Python como :\n",
    "\n",
    "P – y – t – h – o – n\n",
    "\n",
    "Cada letra ocupa uma posição indexada na sequência acima.\n",
    "\n",
    "Exemplo:\n",
    "\n",
    "</font>\n"
   ]
  },
  {
   "cell_type": "code",
   "execution_count": 25,
   "metadata": {},
   "outputs": [],
   "source": [
    "var = 'PYTHON'"
   ]
  },
  {
   "cell_type": "code",
   "execution_count": 26,
   "metadata": {},
   "outputs": [
    {
     "name": "stdout",
     "output_type": "stream",
     "text": [
      "T\n"
     ]
    }
   ],
   "source": [
    "print(var[2])"
   ]
  },
  {
   "cell_type": "markdown",
   "metadata": {},
   "source": [
    "### <font color='gray'> O tipo String em Python é imutável, não podemos trocar os elementos por um outro valor.\n",
    "Em tipos string como eles são objetos Podemos utilizar métodos que podem executar tarefas\n",
    "\n",
    "\n",
    "</font>\n"
   ]
  },
  {
   "cell_type": "code",
   "execution_count": 32,
   "metadata": {},
   "outputs": [],
   "source": [
    "_string = \"É simples é o que ?\""
   ]
  },
  {
   "cell_type": "code",
   "execution_count": 33,
   "metadata": {},
   "outputs": [
    {
     "data": {
      "text/plain": [
       "'É simples é Python'"
      ]
     },
     "execution_count": 33,
     "metadata": {},
     "output_type": "execute_result"
    }
   ],
   "source": [
    "_string.replace(\" o que ?\", \" Python\")"
   ]
  },
  {
   "attachments": {},
   "cell_type": "markdown",
   "metadata": {},
   "source": [
    "## 2.4 - Exercício\n",
    "\n",
    "### <font color='gray'> Divida ao ano\n",
    "\n",
    "</font>"
   ]
  },
  {
   "cell_type": "code",
   "execution_count": null,
   "metadata": {},
   "outputs": [],
   "source": [
    "#Crie a variável 'divida'\n",
    "____ = 100"
   ]
  },
  {
   "cell_type": "code",
   "execution_count": null,
   "metadata": {},
   "outputs": [],
   "source": [
    "#Crie a variável juros ao ano. Considere jutor_ao_ano 1.1\n",
    "\n",
    "juros_ao_ano = ___"
   ]
  },
  {
   "cell_type": "code",
   "execution_count": null,
   "metadata": {},
   "outputs": [],
   "source": [
    "#Cálcule o resultado da Divida em 7 anos\n",
    "resultado = ___*juros_ao_ano**_"
   ]
  },
  {
   "cell_type": "code",
   "execution_count": null,
   "metadata": {},
   "outputs": [],
   "source": [
    "#Mostre seu resultado em umas String\n",
    "print( \"Meu total é: \"  + ___(resultado))"
   ]
  }
 ],
 "metadata": {
  "kernelspec": {
   "display_name": "Python 3",
   "language": "python",
   "name": "python3"
  },
  "language_info": {
   "codemirror_mode": {
    "name": "ipython",
    "version": 3
   },
   "file_extension": ".py",
   "mimetype": "text/x-python",
   "name": "python",
   "nbconvert_exporter": "python",
   "pygments_lexer": "ipython3",
   "version": "3.7.4"
  }
 },
 "nbformat": 4,
 "nbformat_minor": 2
}
